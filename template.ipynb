{
 "cells": [
  {
   "cell_type": "markdown",
   "id": "dcb3278b",
   "metadata": {},
   "source": [
    "# import libraries"
   ]
  },
  {
   "cell_type": "code",
   "execution_count": 1,
   "id": "4c0ebd14",
   "metadata": {},
   "outputs": [],
   "source": [
    "import pandas as pd\n",
    "import numpy as np\n",
    "from datasist.structdata import detect_outliers\n",
    "\n",
    "from imblearn.over_sampling import SMOTE\n",
    "\n",
    "from sklearn.impute import SimpleImputer\n",
    "\n",
    "from sklearn.compose import ColumnTransformer\n",
    "from sklearn.preprocessing import OneHotEncoder\n",
    "from sklearn.preprocessing import LabelEncoder\n",
    "\n",
    "from sklearn.preprocessing import StandardScaler\n",
    "\n",
    "from sklearn.metrics import confusion_matrix, accuracy_score\n",
    "from sklearn.model_selection import train_test_split\n",
    "from sklearn.linear_model import LogisticRegression\n",
    "from sklearn.svm import SVC, LinearSVC\n",
    "from sklearn.ensemble import RandomForestClassifier\n",
    "from sklearn.neighbors import KNeighborsClassifier\n",
    "from sklearn.naive_bayes import GaussianNB\n",
    "from sklearn.linear_model import Perceptron\n",
    "from sklearn.linear_model import SGDClassifier\n",
    "from sklearn.tree import DecisionTreeClassifier\n",
    "from xgboost import XGBClassifier\n",
    "\n",
    "import matplotlib.pyplot as plt\n",
    "import seaborn as sns\n",
    "import joblib\n",
    "import itertools\n",
    "import warnings\n",
    "warnings.filterwarnings('ignore')"
   ]
  },
  {
   "cell_type": "markdown",
   "id": "787c2445",
   "metadata": {},
   "source": [
    "# implement necessary function to help us"
   ]
  },
  {
   "cell_type": "code",
   "execution_count": 2,
   "id": "7c4905fe",
   "metadata": {},
   "outputs": [],
   "source": [
    "def plot_confusion_matrix(cm, classes,normalize=False,title='Confusion matrix',cmap=plt.cm.Blues):\n",
    "    \"\"\"\n",
    "    This function prints and plots the confusion matrix.\n",
    "    Normalization can be applied by setting `normalize=True`.\n",
    "    \"\"\"\n",
    "    plt.figure(figsize=(6, 6))\n",
    "    plt.imshow(cm, interpolation='nearest', cmap=cmap)\n",
    "    plt.title(title)\n",
    "    plt.colorbar()\n",
    "    tick_marks = np.arange(len(classes))\n",
    "    plt.xticks(tick_marks, classes, rotation=90)\n",
    "    plt.yticks(tick_marks, classes)\n",
    "    if normalize:\n",
    "        cm = cm.astype('float') / cm.sum(axis=1)[:, np.newaxis]\n",
    "\n",
    "    thresh = cm.max() / 2.\n",
    "    cm = np.round(cm, 2)\n",
    "    for i, j in itertools.product(range(cm.shape[0]), range(cm.shape[1])):\n",
    "        plt.text(j, i, cm[i, j],\n",
    "                 horizontalalignment=\"center\",\n",
    "                 color=\"white\" if cm[i, j] > thresh else \"black\")\n",
    "    plt.tight_layout()\n",
    "    plt.ylabel('True label')\n",
    "    plt.xlabel('Predicted label')\n",
    "    plt.show()"
   ]
  },
  {
   "cell_type": "code",
   "execution_count": 3,
   "id": "45dbc50a",
   "metadata": {},
   "outputs": [],
   "source": [
    "def MLPredictAcc(X, y, classes , scale = False , smote = False):\n",
    "    X_train, X_test, y_train, y_test = train_test_split(X, y, test_size=0.2, random_state=42)\n",
    "    if (smote == True):\n",
    "        sampler = SMOTE()\n",
    "        X_train, y_train = sampler.fit_resample(X_train, y_train)\n",
    "    if (scale == True) :\n",
    "        scaler = StandardScaler()\n",
    "        scaler.fit(X_train)\n",
    "        X_train = scaler.transform(X_train)\n",
    "        X_test = scaler.transform(X_test)\n",
    "    models = {\n",
    "        \"XGB\": XGBClassifier(),\n",
    "        \"KNN\": KNeighborsClassifier(),\n",
    "        \"SVC\": SVC(),\n",
    "        \"DT\": DecisionTreeClassifier(),\n",
    "        \"RF\": RandomForestClassifier(),\n",
    "        \"GaussianNB\" : GaussianNB(),\n",
    "        \"Perceptron\" : Perceptron(),\n",
    "        \"LinearSVC\" : LinearSVC(),\n",
    "        \"SGDClassifier\" : SGDClassifier(),\n",
    "        \"LogisticRegression\" : LogisticRegression()\n",
    "    }\n",
    "    modell = []\n",
    "    modell_acc = []\n",
    "    model_built = {}\n",
    "    for name, model in models.items():\n",
    "        print(f'Training Model {name} \\n--------------')\n",
    "        model.fit(X_train, y_train)\n",
    "        y_pred = model.predict(X_test)\n",
    "        cf = confusion_matrix(y_test, y_pred)\n",
    "        acc_svc = round(accuracy_score(y_test, y_pred) * 100,2)\n",
    "        modell.append(name)\n",
    "        modell_acc.append(acc_svc)\n",
    "        model_built[name]=model\n",
    "        plot_confusion_matrix(cf, classes, title='{} cf with acc = {} %'.format(name,acc_svc))\n",
    "        print('-' * 30)\n",
    "    models = pd.DataFrame(\n",
    "        {\n",
    "            'Model': modell,\n",
    "            'Score': modell_acc ,\n",
    "\n",
    "        })\n",
    "    models = models.sort_values(by='Score', ascending=False)\n",
    "    models['Score'] = models['Score'].apply(lambda x : str(x) + \" %\")\n",
    "    modelss = pd.DataFrame({\n",
    "        \"index \": [p for p in range(1,len(modell_acc)+1)],\n",
    "         \"model\" : models['Model'],\n",
    "         'Score': models['Score'],\n",
    "    })\n",
    "\n",
    "    if (scale == True):\n",
    "        return modelss, model_built , scaler\n",
    "    else:\n",
    "        return modelss, model_built\n"
   ]
  },
  {
   "cell_type": "code",
   "execution_count": 4,
   "id": "7dc36c96",
   "metadata": {},
   "outputs": [],
   "source": [
    "def define_column_type(df):\n",
    "    numerical_column =  df.select_dtypes(exclude='O').columns.to_list()\n",
    "    categorical_column = df.select_dtypes(include='O').columns.to_list()\n",
    "    return numerical_column , categorical_column"
   ]
  },
  {
   "cell_type": "code",
   "execution_count": 5,
   "id": "26bc4adb",
   "metadata": {},
   "outputs": [],
   "source": [
    "def show_value_count_category_column(df ):\n",
    "    for name in define_column_type(df)[1]:\n",
    "        df_count = pd.DataFrame(df[name].value_counts())\n",
    "        print(df_count)\n",
    "        print(\"*\" * 50)"
   ]
  },
  {
   "cell_type": "code",
   "execution_count": 6,
   "id": "a18e1cf5",
   "metadata": {},
   "outputs": [],
   "source": [
    "def visualize_null_count(df):\n",
    "    plt.figure(figsize=(12,8))\n",
    "    print(df.isnull().sum())\n",
    "    sns.heatmap(df.isnull())\n"
   ]
  },
  {
   "cell_type": "code",
   "execution_count": 7,
   "id": "2d968460",
   "metadata": {},
   "outputs": [],
   "source": [
    "def make_encoding_dict(df):\n",
    "    return dict(tuple(zip(df.value_counts().index.tolist(), [i for i in range (100)])))"
   ]
  },
  {
   "cell_type": "code",
   "execution_count": 8,
   "id": "ee90f100",
   "metadata": {},
   "outputs": [],
   "source": [
    "def detect_outlier(df,numerical):\n",
    "    for col in numerical:\n",
    "        outliers = detect_outliers(df, 0, [col])\n",
    "        df.drop(outliers, inplace=True)\n",
    "        print(\"len outliner in {} = {}\".format(col,len(outliers)) )"
   ]
  },
  {
   "cell_type": "code",
   "execution_count": 9,
   "id": "a2e408b5",
   "metadata": {},
   "outputs": [],
   "source": [
    "def fill_missing_numerical_data(df_rows_values):\n",
    "    imputer = SimpleImputer(missing_values=np.nan, strategy='mean')\n",
    "    imputer.fit(df_rows_values)\n",
    "    df_rows_values = imputer.transform(df_rows_values)\n",
    "    return df_rows_values"
   ]
  },
  {
   "cell_type": "code",
   "execution_count": 10,
   "id": "21a9b15c",
   "metadata": {},
   "outputs": [],
   "source": [
    "def EncodingIndependentVariable(df_rows_values):\n",
    "    ct = ColumnTransformer(transformers=[('encoder', OneHotEncoder(), [0])], remainder='passthrough')\n",
    "    df_rows_values = np.array(ct.fit_transform(df_rows_values))\n",
    "    return  df_rows_values"
   ]
  },
  {
   "cell_type": "code",
   "execution_count": 11,
   "id": "238e2174",
   "metadata": {},
   "outputs": [],
   "source": [
    "def EncodingDependentVariable(y_values):\n",
    "    from sklearn.preprocessing import LabelEncoder\n",
    "    le = LabelEncoder()\n",
    "    y_values = le.fit_transform(y_values)\n",
    "    return y_values"
   ]
  },
  {
   "cell_type": "markdown",
   "id": "282e20d3",
   "metadata": {},
   "source": [
    "# Importing the dataset"
   ]
  },
  {
   "cell_type": "code",
   "execution_count": 13,
   "id": "ad406095",
   "metadata": {},
   "outputs": [],
   "source": []
  },
  {
   "cell_type": "code",
   "execution_count": null,
   "id": "a8a7820b",
   "metadata": {},
   "outputs": [],
   "source": []
  }
 ],
 "metadata": {
  "kernelspec": {
   "display_name": "Python 3 (ipykernel)",
   "language": "python",
   "name": "python3"
  },
  "language_info": {
   "codemirror_mode": {
    "name": "ipython",
    "version": 3
   },
   "file_extension": ".py",
   "mimetype": "text/x-python",
   "name": "python",
   "nbconvert_exporter": "python",
   "pygments_lexer": "ipython3",
   "version": "3.9.13"
  }
 },
 "nbformat": 4,
 "nbformat_minor": 5
}
